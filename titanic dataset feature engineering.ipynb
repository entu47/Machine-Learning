{
 "cells": [
  {
   "cell_type": "markdown",
   "metadata": {},
   "source": [
    "# Feature Engineering\n",
    "\n",
    "It is the process of using domain knowledge of the data to create abd edit features,to make machine learning algo work.\n",
    "\n",
    "Feature vector is an n-dimensional vector of numerical features that represent some object.\n",
    "\n",
    "Many algorithms in machine learning require a numerical representation of objects,since such representations facilitate processing and statistical analysis."
   ]
  },
  {
   "cell_type": "code",
   "execution_count": 1,
   "metadata": {},
   "outputs": [],
   "source": [
    "import pandas as pd\n",
    "import seaborn as sns\n",
    "import matplotlib.pyplot as plt\n",
    "%matplotlib inline"
   ]
  },
  {
   "cell_type": "code",
   "execution_count": 2,
   "metadata": {},
   "outputs": [],
   "source": [
    "train=pd.read_csv('titanic_train.csv')\n",
    "test=pd.read_csv('titanic_test.csv')"
   ]
  },
  {
   "cell_type": "code",
   "execution_count": 3,
   "metadata": {},
   "outputs": [
    {
     "data": {
      "text/html": [
       "<div>\n",
       "<style scoped>\n",
       "    .dataframe tbody tr th:only-of-type {\n",
       "        vertical-align: middle;\n",
       "    }\n",
       "\n",
       "    .dataframe tbody tr th {\n",
       "        vertical-align: top;\n",
       "    }\n",
       "\n",
       "    .dataframe thead th {\n",
       "        text-align: right;\n",
       "    }\n",
       "</style>\n",
       "<table border=\"1\" class=\"dataframe\">\n",
       "  <thead>\n",
       "    <tr style=\"text-align: right;\">\n",
       "      <th></th>\n",
       "      <th>PassengerId</th>\n",
       "      <th>Survived</th>\n",
       "      <th>Pclass</th>\n",
       "      <th>Name</th>\n",
       "      <th>Sex</th>\n",
       "      <th>Age</th>\n",
       "      <th>SibSp</th>\n",
       "      <th>Parch</th>\n",
       "      <th>Ticket</th>\n",
       "      <th>Fare</th>\n",
       "      <th>Cabin</th>\n",
       "      <th>Embarked</th>\n",
       "    </tr>\n",
       "  </thead>\n",
       "  <tbody>\n",
       "    <tr>\n",
       "      <th>0</th>\n",
       "      <td>1</td>\n",
       "      <td>0</td>\n",
       "      <td>3</td>\n",
       "      <td>Braund, Mr. Owen Harris</td>\n",
       "      <td>male</td>\n",
       "      <td>22.0</td>\n",
       "      <td>1</td>\n",
       "      <td>0</td>\n",
       "      <td>A/5 21171</td>\n",
       "      <td>7.2500</td>\n",
       "      <td>NaN</td>\n",
       "      <td>S</td>\n",
       "    </tr>\n",
       "    <tr>\n",
       "      <th>1</th>\n",
       "      <td>2</td>\n",
       "      <td>1</td>\n",
       "      <td>1</td>\n",
       "      <td>Cumings, Mrs. John Bradley (Florence Briggs Th...</td>\n",
       "      <td>female</td>\n",
       "      <td>38.0</td>\n",
       "      <td>1</td>\n",
       "      <td>0</td>\n",
       "      <td>PC 17599</td>\n",
       "      <td>71.2833</td>\n",
       "      <td>C85</td>\n",
       "      <td>C</td>\n",
       "    </tr>\n",
       "    <tr>\n",
       "      <th>2</th>\n",
       "      <td>3</td>\n",
       "      <td>1</td>\n",
       "      <td>3</td>\n",
       "      <td>Heikkinen, Miss. Laina</td>\n",
       "      <td>female</td>\n",
       "      <td>26.0</td>\n",
       "      <td>0</td>\n",
       "      <td>0</td>\n",
       "      <td>STON/O2. 3101282</td>\n",
       "      <td>7.9250</td>\n",
       "      <td>NaN</td>\n",
       "      <td>S</td>\n",
       "    </tr>\n",
       "    <tr>\n",
       "      <th>3</th>\n",
       "      <td>4</td>\n",
       "      <td>1</td>\n",
       "      <td>1</td>\n",
       "      <td>Futrelle, Mrs. Jacques Heath (Lily May Peel)</td>\n",
       "      <td>female</td>\n",
       "      <td>35.0</td>\n",
       "      <td>1</td>\n",
       "      <td>0</td>\n",
       "      <td>113803</td>\n",
       "      <td>53.1000</td>\n",
       "      <td>C123</td>\n",
       "      <td>S</td>\n",
       "    </tr>\n",
       "    <tr>\n",
       "      <th>4</th>\n",
       "      <td>5</td>\n",
       "      <td>0</td>\n",
       "      <td>3</td>\n",
       "      <td>Allen, Mr. William Henry</td>\n",
       "      <td>male</td>\n",
       "      <td>35.0</td>\n",
       "      <td>0</td>\n",
       "      <td>0</td>\n",
       "      <td>373450</td>\n",
       "      <td>8.0500</td>\n",
       "      <td>NaN</td>\n",
       "      <td>S</td>\n",
       "    </tr>\n",
       "  </tbody>\n",
       "</table>\n",
       "</div>"
      ],
      "text/plain": [
       "   PassengerId  Survived  Pclass  \\\n",
       "0            1         0       3   \n",
       "1            2         1       1   \n",
       "2            3         1       3   \n",
       "3            4         1       1   \n",
       "4            5         0       3   \n",
       "\n",
       "                                                Name     Sex   Age  SibSp  \\\n",
       "0                            Braund, Mr. Owen Harris    male  22.0      1   \n",
       "1  Cumings, Mrs. John Bradley (Florence Briggs Th...  female  38.0      1   \n",
       "2                             Heikkinen, Miss. Laina  female  26.0      0   \n",
       "3       Futrelle, Mrs. Jacques Heath (Lily May Peel)  female  35.0      1   \n",
       "4                           Allen, Mr. William Henry    male  35.0      0   \n",
       "\n",
       "   Parch            Ticket     Fare Cabin Embarked  \n",
       "0      0         A/5 21171   7.2500   NaN        S  \n",
       "1      0          PC 17599  71.2833   C85        C  \n",
       "2      0  STON/O2. 3101282   7.9250   NaN        S  \n",
       "3      0            113803  53.1000  C123        S  \n",
       "4      0            373450   8.0500   NaN        S  "
      ]
     },
     "execution_count": 3,
     "metadata": {},
     "output_type": "execute_result"
    }
   ],
   "source": [
    "train.head()"
   ]
  },
  {
   "cell_type": "markdown",
   "metadata": {},
   "source": [
    "# Name"
   ]
  },
  {
   "cell_type": "code",
   "execution_count": 4,
   "metadata": {},
   "outputs": [],
   "source": [
    "train_test=[train,test]\n",
    "\n",
    "for dataset in train_test:\n",
    "    dataset['Title']=dataset['Name'].str.extract(' ([A-Za-z]+)\\.',expand=False)\n",
    "#test.head()"
   ]
  },
  {
   "cell_type": "code",
   "execution_count": null,
   "metadata": {},
   "outputs": [],
   "source": []
  },
  {
   "cell_type": "code",
   "execution_count": 5,
   "metadata": {},
   "outputs": [
    {
     "data": {
      "text/plain": [
       "Mr          517\n",
       "Miss        182\n",
       "Mrs         125\n",
       "Master       40\n",
       "Dr            7\n",
       "Rev           6\n",
       "Mlle          2\n",
       "Major         2\n",
       "Col           2\n",
       "Don           1\n",
       "Sir           1\n",
       "Capt          1\n",
       "Ms            1\n",
       "Lady          1\n",
       "Jonkheer      1\n",
       "Countess      1\n",
       "Mme           1\n",
       "Name: Title, dtype: int64"
      ]
     },
     "execution_count": 5,
     "metadata": {},
     "output_type": "execute_result"
    }
   ],
   "source": [
    "train['Title'].value_counts()"
   ]
  },
  {
   "cell_type": "code",
   "execution_count": 6,
   "metadata": {},
   "outputs": [
    {
     "data": {
      "text/plain": [
       "Mr        240\n",
       "Miss       78\n",
       "Mrs        72\n",
       "Master     21\n",
       "Col         2\n",
       "Rev         2\n",
       "Dr          1\n",
       "Dona        1\n",
       "Ms          1\n",
       "Name: Title, dtype: int64"
      ]
     },
     "execution_count": 6,
     "metadata": {},
     "output_type": "execute_result"
    }
   ],
   "source": [
    "test['Title'].value_counts()"
   ]
  },
  {
   "cell_type": "code",
   "execution_count": 7,
   "metadata": {},
   "outputs": [],
   "source": [
    "title_mapping={'Mr':0,'Miss':1,'Mrs':2,'Master':3,'Dr':3,'Rev':3,'Col':3,'Mlle':3,'Major':3,'Sir':3,'Jonkheer':3,'Ms':3,'Lady':3,'Mme':3,'Capt':3,'Countness':3,'Don':3,'Dona':3}\n"
   ]
  },
  {
   "cell_type": "code",
   "execution_count": 8,
   "metadata": {},
   "outputs": [],
   "source": [
    "for dataset in train_test:\n",
    "    dataset['Title']=dataset['Title'].map(title_mapping)\n",
    "#rain['Title']"
   ]
  },
  {
   "cell_type": "code",
   "execution_count": 55,
   "metadata": {},
   "outputs": [
    {
     "data": {
      "text/plain": [
       "0      False\n",
       "1      False\n",
       "2      False\n",
       "3      False\n",
       "4      False\n",
       "5      False\n",
       "6      False\n",
       "7      False\n",
       "8      False\n",
       "9      False\n",
       "10     False\n",
       "11     False\n",
       "12     False\n",
       "13     False\n",
       "14     False\n",
       "15     False\n",
       "16     False\n",
       "17     False\n",
       "18     False\n",
       "19     False\n",
       "20     False\n",
       "21     False\n",
       "22     False\n",
       "23     False\n",
       "24     False\n",
       "25     False\n",
       "26     False\n",
       "27     False\n",
       "28     False\n",
       "29     False\n",
       "30     False\n",
       "31     False\n",
       "32     False\n",
       "33     False\n",
       "34     False\n",
       "35     False\n",
       "36     False\n",
       "37     False\n",
       "38     False\n",
       "39     False\n",
       "40     False\n",
       "41     False\n",
       "42     False\n",
       "43     False\n",
       "44     False\n",
       "45     False\n",
       "46     False\n",
       "47     False\n",
       "48     False\n",
       "49     False\n",
       "50     False\n",
       "51     False\n",
       "52     False\n",
       "53     False\n",
       "54     False\n",
       "55     False\n",
       "56     False\n",
       "57     False\n",
       "58     False\n",
       "59     False\n",
       "60     False\n",
       "61     False\n",
       "62     False\n",
       "63     False\n",
       "64     False\n",
       "65     False\n",
       "66     False\n",
       "67     False\n",
       "68     False\n",
       "69     False\n",
       "70     False\n",
       "71     False\n",
       "72     False\n",
       "73     False\n",
       "74     False\n",
       "75     False\n",
       "76     False\n",
       "77     False\n",
       "78     False\n",
       "79     False\n",
       "80     False\n",
       "81     False\n",
       "82     False\n",
       "83     False\n",
       "84     False\n",
       "85     False\n",
       "86     False\n",
       "87     False\n",
       "88     False\n",
       "89     False\n",
       "90     False\n",
       "91     False\n",
       "92     False\n",
       "93     False\n",
       "94     False\n",
       "95     False\n",
       "96     False\n",
       "97     False\n",
       "98     False\n",
       "99     False\n",
       "100    False\n",
       "101    False\n",
       "102    False\n",
       "103    False\n",
       "104    False\n",
       "105    False\n",
       "106    False\n",
       "107    False\n",
       "108    False\n",
       "109    False\n",
       "110    False\n",
       "111    False\n",
       "112    False\n",
       "113    False\n",
       "114    False\n",
       "115    False\n",
       "116    False\n",
       "117    False\n",
       "118    False\n",
       "119    False\n",
       "120    False\n",
       "121    False\n",
       "122    False\n",
       "123    False\n",
       "124    False\n",
       "125    False\n",
       "126    False\n",
       "127    False\n",
       "128    False\n",
       "129    False\n",
       "130    False\n",
       "131    False\n",
       "132    False\n",
       "133    False\n",
       "134    False\n",
       "135    False\n",
       "136    False\n",
       "137    False\n",
       "138    False\n",
       "139    False\n",
       "140    False\n",
       "141    False\n",
       "142    False\n",
       "143    False\n",
       "144    False\n",
       "145    False\n",
       "146    False\n",
       "147    False\n",
       "148    False\n",
       "149    False\n",
       "150    False\n",
       "151    False\n",
       "152    False\n",
       "153    False\n",
       "154    False\n",
       "155    False\n",
       "156    False\n",
       "157    False\n",
       "158    False\n",
       "159    False\n",
       "160    False\n",
       "161    False\n",
       "162    False\n",
       "163    False\n",
       "164    False\n",
       "165    False\n",
       "166    False\n",
       "167    False\n",
       "168    False\n",
       "169    False\n",
       "170    False\n",
       "171    False\n",
       "172    False\n",
       "173    False\n",
       "174    False\n",
       "175    False\n",
       "176    False\n",
       "177    False\n",
       "178    False\n",
       "179    False\n",
       "180    False\n",
       "181    False\n",
       "182    False\n",
       "183    False\n",
       "184    False\n",
       "185    False\n",
       "186    False\n",
       "187    False\n",
       "188    False\n",
       "189    False\n",
       "190    False\n",
       "191    False\n",
       "192    False\n",
       "193    False\n",
       "194    False\n",
       "195    False\n",
       "196    False\n",
       "197    False\n",
       "198    False\n",
       "199    False\n",
       "200    False\n",
       "201    False\n",
       "202    False\n",
       "203    False\n",
       "204    False\n",
       "205    False\n",
       "206    False\n",
       "207    False\n",
       "208    False\n",
       "209    False\n",
       "210    False\n",
       "211    False\n",
       "212    False\n",
       "213    False\n",
       "214    False\n",
       "215    False\n",
       "216    False\n",
       "217    False\n",
       "218    False\n",
       "219    False\n",
       "220    False\n",
       "221    False\n",
       "222    False\n",
       "223    False\n",
       "224    False\n",
       "225    False\n",
       "226    False\n",
       "227    False\n",
       "228    False\n",
       "229    False\n",
       "230    False\n",
       "231    False\n",
       "232    False\n",
       "233    False\n",
       "234    False\n",
       "235    False\n",
       "236    False\n",
       "237    False\n",
       "238    False\n",
       "239    False\n",
       "240    False\n",
       "241    False\n",
       "242    False\n",
       "243    False\n",
       "244    False\n",
       "245    False\n",
       "246    False\n",
       "247    False\n",
       "248    False\n",
       "249    False\n",
       "250    False\n",
       "251    False\n",
       "252    False\n",
       "253    False\n",
       "254    False\n",
       "255    False\n",
       "256    False\n",
       "257    False\n",
       "258    False\n",
       "259    False\n",
       "260    False\n",
       "261    False\n",
       "262    False\n",
       "263    False\n",
       "264    False\n",
       "265    False\n",
       "266    False\n",
       "267    False\n",
       "268    False\n",
       "269    False\n",
       "270    False\n",
       "271    False\n",
       "272    False\n",
       "273    False\n",
       "274    False\n",
       "275    False\n",
       "276    False\n",
       "277    False\n",
       "278    False\n",
       "279    False\n",
       "280    False\n",
       "281    False\n",
       "282    False\n",
       "283    False\n",
       "284    False\n",
       "285    False\n",
       "286    False\n",
       "287    False\n",
       "288    False\n",
       "289    False\n",
       "290    False\n",
       "291    False\n",
       "292    False\n",
       "293    False\n",
       "294    False\n",
       "295    False\n",
       "296    False\n",
       "297    False\n",
       "298    False\n",
       "299    False\n",
       "300    False\n",
       "301    False\n",
       "302    False\n",
       "303    False\n",
       "304    False\n",
       "305    False\n",
       "306    False\n",
       "307    False\n",
       "308    False\n",
       "309    False\n",
       "310    False\n",
       "311    False\n",
       "312    False\n",
       "313    False\n",
       "314    False\n",
       "315    False\n",
       "316    False\n",
       "317    False\n",
       "318    False\n",
       "319    False\n",
       "320    False\n",
       "321    False\n",
       "322    False\n",
       "323    False\n",
       "324    False\n",
       "325    False\n",
       "326    False\n",
       "327    False\n",
       "328    False\n",
       "329    False\n",
       "330    False\n",
       "331    False\n",
       "332    False\n",
       "333    False\n",
       "334    False\n",
       "335    False\n",
       "336    False\n",
       "337    False\n",
       "338    False\n",
       "339    False\n",
       "340    False\n",
       "341    False\n",
       "342    False\n",
       "343    False\n",
       "344    False\n",
       "345    False\n",
       "346    False\n",
       "347    False\n",
       "348    False\n",
       "349    False\n",
       "350    False\n",
       "351    False\n",
       "352    False\n",
       "353    False\n",
       "354    False\n",
       "355    False\n",
       "356    False\n",
       "357    False\n",
       "358    False\n",
       "359    False\n",
       "360    False\n",
       "361    False\n",
       "362    False\n",
       "363    False\n",
       "364    False\n",
       "365    False\n",
       "366    False\n",
       "367    False\n",
       "368    False\n",
       "369    False\n",
       "370    False\n",
       "371    False\n",
       "372    False\n",
       "373    False\n",
       "374    False\n",
       "375    False\n",
       "376    False\n",
       "377    False\n",
       "378    False\n",
       "379    False\n",
       "380    False\n",
       "381    False\n",
       "382    False\n",
       "383    False\n",
       "384    False\n",
       "385    False\n",
       "386    False\n",
       "387    False\n",
       "388    False\n",
       "389    False\n",
       "390    False\n",
       "391    False\n",
       "392    False\n",
       "393    False\n",
       "394    False\n",
       "395    False\n",
       "396    False\n",
       "397    False\n",
       "398    False\n",
       "399    False\n",
       "400    False\n",
       "401    False\n",
       "402    False\n",
       "403    False\n",
       "404    False\n",
       "405    False\n",
       "406    False\n",
       "407    False\n",
       "408    False\n",
       "409    False\n",
       "410    False\n",
       "411    False\n",
       "412    False\n",
       "413    False\n",
       "414    False\n",
       "415    False\n",
       "416    False\n",
       "417    False\n",
       "418    False\n",
       "419    False\n",
       "420    False\n",
       "421    False\n",
       "422    False\n",
       "423    False\n",
       "424    False\n",
       "425    False\n",
       "426    False\n",
       "427    False\n",
       "428    False\n",
       "429    False\n",
       "430    False\n",
       "431    False\n",
       "432    False\n",
       "433    False\n",
       "434    False\n",
       "435    False\n",
       "436    False\n",
       "437    False\n",
       "438    False\n",
       "439    False\n",
       "440    False\n",
       "441    False\n",
       "442    False\n",
       "443    False\n",
       "444    False\n",
       "445    False\n",
       "446    False\n",
       "447    False\n",
       "448    False\n",
       "449    False\n",
       "450    False\n",
       "451    False\n",
       "452    False\n",
       "453    False\n",
       "454    False\n",
       "455    False\n",
       "456    False\n",
       "457    False\n",
       "458    False\n",
       "459    False\n",
       "460    False\n",
       "461    False\n",
       "462    False\n",
       "463    False\n",
       "464    False\n",
       "465    False\n",
       "466    False\n",
       "467    False\n",
       "468    False\n",
       "469    False\n",
       "470    False\n",
       "471    False\n",
       "472    False\n",
       "473    False\n",
       "474    False\n",
       "475    False\n",
       "476    False\n",
       "477    False\n",
       "478    False\n",
       "479    False\n",
       "480    False\n",
       "481    False\n",
       "482    False\n",
       "483    False\n",
       "484    False\n",
       "485    False\n",
       "486    False\n",
       "487    False\n",
       "488    False\n",
       "489    False\n",
       "490    False\n",
       "491    False\n",
       "492    False\n",
       "493    False\n",
       "494    False\n",
       "495    False\n",
       "496    False\n",
       "497    False\n",
       "498    False\n",
       "499    False\n",
       "500    False\n",
       "501    False\n",
       "502    False\n",
       "503    False\n",
       "504    False\n",
       "505    False\n",
       "506    False\n",
       "507    False\n",
       "508    False\n",
       "509    False\n",
       "510    False\n",
       "511    False\n",
       "512    False\n",
       "513    False\n",
       "514    False\n",
       "515    False\n",
       "516    False\n",
       "517    False\n",
       "518    False\n",
       "519    False\n",
       "520    False\n",
       "521    False\n",
       "522    False\n",
       "523    False\n",
       "524    False\n",
       "525    False\n",
       "526    False\n",
       "527    False\n",
       "528    False\n",
       "529    False\n",
       "530    False\n",
       "531    False\n",
       "532    False\n",
       "533    False\n",
       "534    False\n",
       "535    False\n",
       "536    False\n",
       "537    False\n",
       "538    False\n",
       "539    False\n",
       "540    False\n",
       "541    False\n",
       "542    False\n",
       "543    False\n",
       "544    False\n",
       "545    False\n",
       "546    False\n",
       "547    False\n",
       "548    False\n",
       "549    False\n",
       "550    False\n",
       "551    False\n",
       "552    False\n",
       "553    False\n",
       "554    False\n",
       "555    False\n",
       "556    False\n",
       "557    False\n",
       "558    False\n",
       "559    False\n",
       "560    False\n",
       "561    False\n",
       "562    False\n",
       "563    False\n",
       "564    False\n",
       "565    False\n",
       "566    False\n",
       "567    False\n",
       "568    False\n",
       "569    False\n",
       "570    False\n",
       "571    False\n",
       "572    False\n",
       "573    False\n",
       "574    False\n",
       "575    False\n",
       "576    False\n",
       "577    False\n",
       "578    False\n",
       "579    False\n",
       "580    False\n",
       "581    False\n",
       "582    False\n",
       "583    False\n",
       "584    False\n",
       "585    False\n",
       "586    False\n",
       "587    False\n",
       "588    False\n",
       "589    False\n",
       "590    False\n",
       "591    False\n",
       "592    False\n",
       "593    False\n",
       "594    False\n",
       "595    False\n",
       "596    False\n",
       "597    False\n",
       "598    False\n",
       "599    False\n",
       "600    False\n",
       "601    False\n",
       "602    False\n",
       "603    False\n",
       "604    False\n",
       "605    False\n",
       "606    False\n",
       "607    False\n",
       "608    False\n",
       "609    False\n",
       "610    False\n",
       "611    False\n",
       "612    False\n",
       "613    False\n",
       "614    False\n",
       "615    False\n",
       "616    False\n",
       "617    False\n",
       "618    False\n",
       "619    False\n",
       "620    False\n",
       "621    False\n",
       "622    False\n",
       "623    False\n",
       "624    False\n",
       "625    False\n",
       "626    False\n",
       "627    False\n",
       "628    False\n",
       "629    False\n",
       "630    False\n",
       "631    False\n",
       "632    False\n",
       "633    False\n",
       "634    False\n",
       "635    False\n",
       "636    False\n",
       "637    False\n",
       "638    False\n",
       "639    False\n",
       "640    False\n",
       "641    False\n",
       "642    False\n",
       "643    False\n",
       "644    False\n",
       "645    False\n",
       "646    False\n",
       "647    False\n",
       "648    False\n",
       "649    False\n",
       "650    False\n",
       "651    False\n",
       "652    False\n",
       "653    False\n",
       "654    False\n",
       "655    False\n",
       "656    False\n",
       "657    False\n",
       "658    False\n",
       "659    False\n",
       "660    False\n",
       "661    False\n",
       "662    False\n",
       "663    False\n",
       "664    False\n",
       "665    False\n",
       "666    False\n",
       "667    False\n",
       "668    False\n",
       "669    False\n",
       "670    False\n",
       "671    False\n",
       "672    False\n",
       "673    False\n",
       "674    False\n",
       "675    False\n",
       "676    False\n",
       "677    False\n",
       "678    False\n",
       "679    False\n",
       "680    False\n",
       "681    False\n",
       "682    False\n",
       "683    False\n",
       "684    False\n",
       "685    False\n",
       "686    False\n",
       "687    False\n",
       "688    False\n",
       "689    False\n",
       "690    False\n",
       "691    False\n",
       "692    False\n",
       "693    False\n",
       "694    False\n",
       "695    False\n",
       "696    False\n",
       "697    False\n",
       "698    False\n",
       "699    False\n",
       "700    False\n",
       "701    False\n",
       "702    False\n",
       "703    False\n",
       "704    False\n",
       "705    False\n",
       "706    False\n",
       "707    False\n",
       "708    False\n",
       "709    False\n",
       "710    False\n",
       "711    False\n",
       "712    False\n",
       "713    False\n",
       "714    False\n",
       "715    False\n",
       "716    False\n",
       "717    False\n",
       "718    False\n",
       "719    False\n",
       "720    False\n",
       "721    False\n",
       "722    False\n",
       "723    False\n",
       "724    False\n",
       "725    False\n",
       "726    False\n",
       "727    False\n",
       "728    False\n",
       "729    False\n",
       "730    False\n",
       "731    False\n",
       "732    False\n",
       "733    False\n",
       "734    False\n",
       "735    False\n",
       "736    False\n",
       "737    False\n",
       "738    False\n",
       "739    False\n",
       "740    False\n",
       "741    False\n",
       "742    False\n",
       "743    False\n",
       "744    False\n",
       "745    False\n",
       "746    False\n",
       "747    False\n",
       "748    False\n",
       "749    False\n",
       "750    False\n",
       "751    False\n",
       "752    False\n",
       "753    False\n",
       "754    False\n",
       "755    False\n",
       "756    False\n",
       "757    False\n",
       "758    False\n",
       "759     True\n",
       "760    False\n",
       "761    False\n",
       "762    False\n",
       "763    False\n",
       "764    False\n",
       "765    False\n",
       "766    False\n",
       "767    False\n",
       "768    False\n",
       "769    False\n",
       "770    False\n",
       "771    False\n",
       "772    False\n",
       "773    False\n",
       "774    False\n",
       "775    False\n",
       "776    False\n",
       "777    False\n",
       "778    False\n",
       "779    False\n",
       "780    False\n",
       "781    False\n",
       "782    False\n",
       "783    False\n",
       "784    False\n",
       "785    False\n",
       "786    False\n",
       "787    False\n",
       "788    False\n",
       "789    False\n",
       "790    False\n",
       "791    False\n",
       "792    False\n",
       "793    False\n",
       "794    False\n",
       "795    False\n",
       "796    False\n",
       "797    False\n",
       "798    False\n",
       "799    False\n",
       "800    False\n",
       "801    False\n",
       "802    False\n",
       "803    False\n",
       "804    False\n",
       "805    False\n",
       "806    False\n",
       "807    False\n",
       "808    False\n",
       "809    False\n",
       "810    False\n",
       "811    False\n",
       "812    False\n",
       "813    False\n",
       "814    False\n",
       "815    False\n",
       "816    False\n",
       "817    False\n",
       "818    False\n",
       "819    False\n",
       "820    False\n",
       "821    False\n",
       "822    False\n",
       "823    False\n",
       "824    False\n",
       "825    False\n",
       "826    False\n",
       "827    False\n",
       "828    False\n",
       "829    False\n",
       "830    False\n",
       "831    False\n",
       "832    False\n",
       "833    False\n",
       "834    False\n",
       "835    False\n",
       "836    False\n",
       "837    False\n",
       "838    False\n",
       "839    False\n",
       "840    False\n",
       "841    False\n",
       "842    False\n",
       "843    False\n",
       "844    False\n",
       "845    False\n",
       "846    False\n",
       "847    False\n",
       "848    False\n",
       "849    False\n",
       "850    False\n",
       "851    False\n",
       "852    False\n",
       "853    False\n",
       "854    False\n",
       "855    False\n",
       "856    False\n",
       "857    False\n",
       "858    False\n",
       "859    False\n",
       "860    False\n",
       "861    False\n",
       "862    False\n",
       "863    False\n",
       "864    False\n",
       "865    False\n",
       "866    False\n",
       "867    False\n",
       "868    False\n",
       "869    False\n",
       "870    False\n",
       "871    False\n",
       "872    False\n",
       "873    False\n",
       "874    False\n",
       "875    False\n",
       "876    False\n",
       "877    False\n",
       "878    False\n",
       "879    False\n",
       "880    False\n",
       "881    False\n",
       "882    False\n",
       "883    False\n",
       "884    False\n",
       "885    False\n",
       "886    False\n",
       "887    False\n",
       "888    False\n",
       "889    False\n",
       "890    False\n",
       "Name: Title, dtype: bool"
      ]
     },
     "execution_count": 55,
     "metadata": {},
     "output_type": "execute_result"
    }
   ],
   "source": [
    "train['Title'].isnull()"
   ]
  },
  {
   "cell_type": "code",
   "execution_count": 59,
   "metadata": {},
   "outputs": [],
   "source": [
    "train[train['Title'].isnull()]=0"
   ]
  },
  {
   "cell_type": "code",
   "execution_count": 11,
   "metadata": {},
   "outputs": [],
   "source": [
    "def bar_chart(feature):\n",
    "    survived=train[train['Survived']==1][feature].value_counts()\n",
    "    dead=train[train['Survived']==0][feature].value_counts()\n",
    "    df=pd.DataFrame([survived,dead])\n",
    "    df.index=['Survived','Dead']\n",
    "    df.plot(kind='bar',stacked=True,figsize=(10,5))"
   ]
  },
  {
   "cell_type": "code",
   "execution_count": 12,
   "metadata": {},
   "outputs": [
    {
     "data": {
      "image/png": "[encoded data removed]",
      "text/plain": [
       "<Figure size 720x360 with 1 Axes>"
      ]
     },
     "metadata": {
      "needs_background": "light"
     },
     "output_type": "display_data"
    }
   ],
   "source": [
    "bar_chart('Title')"
   ]
  },
  {
   "cell_type": "code",
   "execution_count": 13,
   "metadata": {},
   "outputs": [],
   "source": [
    "# delete unnecessary feature from dataset\n",
    "train.drop('Name',axis=1,inplace=True)\n",
    "test.drop('Name',axis=1,inplace=True)"
   ]
  },
  {
   "cell_type": "code",
   "execution_count": 14,
   "metadata": {},
   "outputs": [
    {
     "data": {
      "text/html": [
       "<div>\n",
       "<style scoped>\n",
       "    .dataframe tbody tr th:only-of-type {\n",
       "        vertical-align: middle;\n",
       "    }\n",
       "\n",
       "    .dataframe tbody tr th {\n",
       "        vertical-align: top;\n",
       "    }\n",
       "\n",
       "    .dataframe thead th {\n",
       "        text-align: right;\n",
       "    }\n",
       "</style>\n",
       "<table border=\"1\" class=\"dataframe\">\n",
       "  <thead>\n",
       "    <tr style=\"text-align: right;\">\n",
       "      <th></th>\n",
       "      <th>PassengerId</th>\n",
       "      <th>Survived</th>\n",
       "      <th>Pclass</th>\n",
       "      <th>Sex</th>\n",
       "      <th>Age</th>\n",
       "      <th>SibSp</th>\n",
       "      <th>Parch</th>\n",
       "      <th>Ticket</th>\n",
       "      <th>Fare</th>\n",
       "      <th>Cabin</th>\n",
       "      <th>Embarked</th>\n",
       "      <th>Title</th>\n",
       "    </tr>\n",
       "  </thead>\n",
       "  <tbody>\n",
       "    <tr>\n",
       "      <th>0</th>\n",
       "      <td>1</td>\n",
       "      <td>0</td>\n",
       "      <td>3</td>\n",
       "      <td>male</td>\n",
       "      <td>22.0</td>\n",
       "      <td>1</td>\n",
       "      <td>0</td>\n",
       "      <td>A/5 21171</td>\n",
       "      <td>7.2500</td>\n",
       "      <td>NaN</td>\n",
       "      <td>S</td>\n",
       "      <td>0.0</td>\n",
       "    </tr>\n",
       "    <tr>\n",
       "      <th>1</th>\n",
       "      <td>2</td>\n",
       "      <td>1</td>\n",
       "      <td>1</td>\n",
       "      <td>female</td>\n",
       "      <td>38.0</td>\n",
       "      <td>1</td>\n",
       "      <td>0</td>\n",
       "      <td>PC 17599</td>\n",
       "      <td>71.2833</td>\n",
       "      <td>C85</td>\n",
       "      <td>C</td>\n",
       "      <td>2.0</td>\n",
       "    </tr>\n",
       "    <tr>\n",
       "      <th>2</th>\n",
       "      <td>3</td>\n",
       "      <td>1</td>\n",
       "      <td>3</td>\n",
       "      <td>female</td>\n",
       "      <td>26.0</td>\n",
       "      <td>0</td>\n",
       "      <td>0</td>\n",
       "      <td>STON/O2. 3101282</td>\n",
       "      <td>7.9250</td>\n",
       "      <td>NaN</td>\n",
       "      <td>S</td>\n",
       "      <td>1.0</td>\n",
       "    </tr>\n",
       "    <tr>\n",
       "      <th>3</th>\n",
       "      <td>4</td>\n",
       "      <td>1</td>\n",
       "      <td>1</td>\n",
       "      <td>female</td>\n",
       "      <td>35.0</td>\n",
       "      <td>1</td>\n",
       "      <td>0</td>\n",
       "      <td>113803</td>\n",
       "      <td>53.1000</td>\n",
       "      <td>C123</td>\n",
       "      <td>S</td>\n",
       "      <td>2.0</td>\n",
       "    </tr>\n",
       "    <tr>\n",
       "      <th>4</th>\n",
       "      <td>5</td>\n",
       "      <td>0</td>\n",
       "      <td>3</td>\n",
       "      <td>male</td>\n",
       "      <td>35.0</td>\n",
       "      <td>0</td>\n",
       "      <td>0</td>\n",
       "      <td>373450</td>\n",
       "      <td>8.0500</td>\n",
       "      <td>NaN</td>\n",
       "      <td>S</td>\n",
       "      <td>0.0</td>\n",
       "    </tr>\n",
       "  </tbody>\n",
       "</table>\n",
       "</div>"
      ],
      "text/plain": [
       "   PassengerId  Survived  Pclass     Sex   Age  SibSp  Parch  \\\n",
       "0            1         0       3    male  22.0      1      0   \n",
       "1            2         1       1  female  38.0      1      0   \n",
       "2            3         1       3  female  26.0      0      0   \n",
       "3            4         1       1  female  35.0      1      0   \n",
       "4            5         0       3    male  35.0      0      0   \n",
       "\n",
       "             Ticket     Fare Cabin Embarked  Title  \n",
       "0         A/5 21171   7.2500   NaN        S    0.0  \n",
       "1          PC 17599  71.2833   C85        C    2.0  \n",
       "2  STON/O2. 3101282   7.9250   NaN        S    1.0  \n",
       "3            113803  53.1000  C123        S    2.0  \n",
       "4            373450   8.0500   NaN        S    0.0  "
      ]
     },
     "execution_count": 14,
     "metadata": {},
     "output_type": "execute_result"
    }
   ],
   "source": [
    "train.head()"
   ]
  },
  {
   "cell_type": "markdown",
   "metadata": {},
   "source": [
    "# Sex\n",
    "\n",
    "male:0 female:1"
   ]
  },
  {
   "cell_type": "code",
   "execution_count": 15,
   "metadata": {},
   "outputs": [],
   "source": [
    "sex_mapping={'male':0,'female':1}\n",
    "for dataset in train_test:\n",
    "    dataset['Sex']=dataset['Sex'].map(sex_mapping)"
   ]
  },
  {
   "cell_type": "code",
   "execution_count": 16,
   "metadata": {},
   "outputs": [
    {
     "data": {
      "image/png": "[encoded data removed]",
      "text/plain": [
       "<Figure size 720x360 with 1 Axes>"
      ]
     },
     "metadata": {
      "needs_background": "light"
     },
     "output_type": "display_data"
    }
   ],
   "source": [
    "bar_chart('Sex')"
   ]
  },
  {
   "cell_type": "markdown",
   "metadata": {},
   "source": [
    "# Age\n",
    "\n",
    "4.4.1 some age is missing\n",
    "Let's use Title's median age for missing Age"
   ]
  },
  {
   "cell_type": "code",
   "execution_count": 17,
   "metadata": {},
   "outputs": [],
   "source": [
    "# fill missing age with median age for each titile(Mr,Mrs,Others)\n",
    "train['Age'].fillna(train.groupby('Title')['Age'].transform('median'),inplace=True)\n",
    "test['Age'].fillna(test.groupby('Title')['Age'].transform('median'),inplace=True)\n"
   ]
  },
  {
   "cell_type": "code",
   "execution_count": 18,
   "metadata": {},
   "outputs": [
    {
     "data": {
      "text/html": [
       "<div>\n",
       "<style scoped>\n",
       "    .dataframe tbody tr th:only-of-type {\n",
       "        vertical-align: middle;\n",
       "    }\n",
       "\n",
       "    .dataframe tbody tr th {\n",
       "        vertical-align: top;\n",
       "    }\n",
       "\n",
       "    .dataframe thead th {\n",
       "        text-align: right;\n",
       "    }\n",
       "</style>\n",
       "<table border=\"1\" class=\"dataframe\">\n",
       "  <thead>\n",
       "    <tr style=\"text-align: right;\">\n",
       "      <th></th>\n",
       "      <th>PassengerId</th>\n",
       "      <th>Survived</th>\n",
       "      <th>Pclass</th>\n",
       "      <th>Sex</th>\n",
       "      <th>Age</th>\n",
       "      <th>SibSp</th>\n",
       "      <th>Parch</th>\n",
       "      <th>Ticket</th>\n",
       "      <th>Fare</th>\n",
       "      <th>Cabin</th>\n",
       "      <th>Embarked</th>\n",
       "      <th>Title</th>\n",
       "    </tr>\n",
       "  </thead>\n",
       "  <tbody>\n",
       "    <tr>\n",
       "      <th>0</th>\n",
       "      <td>1</td>\n",
       "      <td>0</td>\n",
       "      <td>3</td>\n",
       "      <td>0</td>\n",
       "      <td>22.0</td>\n",
       "      <td>1</td>\n",
       "      <td>0</td>\n",
       "      <td>A/5 21171</td>\n",
       "      <td>7.2500</td>\n",
       "      <td>NaN</td>\n",
       "      <td>S</td>\n",
       "      <td>0.0</td>\n",
       "    </tr>\n",
       "    <tr>\n",
       "      <th>1</th>\n",
       "      <td>2</td>\n",
       "      <td>1</td>\n",
       "      <td>1</td>\n",
       "      <td>1</td>\n",
       "      <td>38.0</td>\n",
       "      <td>1</td>\n",
       "      <td>0</td>\n",
       "      <td>PC 17599</td>\n",
       "      <td>71.2833</td>\n",
       "      <td>C85</td>\n",
       "      <td>C</td>\n",
       "      <td>2.0</td>\n",
       "    </tr>\n",
       "    <tr>\n",
       "      <th>2</th>\n",
       "      <td>3</td>\n",
       "      <td>1</td>\n",
       "      <td>3</td>\n",
       "      <td>1</td>\n",
       "      <td>26.0</td>\n",
       "      <td>0</td>\n",
       "      <td>0</td>\n",
       "      <td>STON/O2. 3101282</td>\n",
       "      <td>7.9250</td>\n",
       "      <td>NaN</td>\n",
       "      <td>S</td>\n",
       "      <td>1.0</td>\n",
       "    </tr>\n",
       "    <tr>\n",
       "      <th>3</th>\n",
       "      <td>4</td>\n",
       "      <td>1</td>\n",
       "      <td>1</td>\n",
       "      <td>1</td>\n",
       "      <td>35.0</td>\n",
       "      <td>1</td>\n",
       "      <td>0</td>\n",
       "      <td>113803</td>\n",
       "      <td>53.1000</td>\n",
       "      <td>C123</td>\n",
       "      <td>S</td>\n",
       "      <td>2.0</td>\n",
       "    </tr>\n",
       "    <tr>\n",
       "      <th>4</th>\n",
       "      <td>5</td>\n",
       "      <td>0</td>\n",
       "      <td>3</td>\n",
       "      <td>0</td>\n",
       "      <td>35.0</td>\n",
       "      <td>0</td>\n",
       "      <td>0</td>\n",
       "      <td>373450</td>\n",
       "      <td>8.0500</td>\n",
       "      <td>NaN</td>\n",
       "      <td>S</td>\n",
       "      <td>0.0</td>\n",
       "    </tr>\n",
       "  </tbody>\n",
       "</table>\n",
       "</div>"
      ],
      "text/plain": [
       "   PassengerId  Survived  Pclass  Sex   Age  SibSp  Parch            Ticket  \\\n",
       "0            1         0       3    0  22.0      1      0         A/5 21171   \n",
       "1            2         1       1    1  38.0      1      0          PC 17599   \n",
       "2            3         1       3    1  26.0      0      0  STON/O2. 3101282   \n",
       "3            4         1       1    1  35.0      1      0            113803   \n",
       "4            5         0       3    0  35.0      0      0            373450   \n",
       "\n",
       "      Fare Cabin Embarked  Title  \n",
       "0   7.2500   NaN        S    0.0  \n",
       "1  71.2833   C85        C    2.0  \n",
       "2   7.9250   NaN        S    1.0  \n",
       "3  53.1000  C123        S    2.0  \n",
       "4   8.0500   NaN        S    0.0  "
      ]
     },
     "execution_count": 18,
     "metadata": {},
     "output_type": "execute_result"
    }
   ],
   "source": [
    "train.head()"
   ]
  },
  {
   "cell_type": "code",
   "execution_count": 19,
   "metadata": {},
   "outputs": [
    {
     "data": {
      "text/plain": [
       "0"
      ]
     },
     "execution_count": 19,
     "metadata": {},
     "output_type": "execute_result"
    }
   ],
   "source": [
    "train['Age'].isnull().sum()"
   ]
  },
  {
   "cell_type": "code",
   "execution_count": 22,
   "metadata": {},
   "outputs": [],
   "source": [
    "pd.pandas.set_option(\"display.max_rows\",None)"
   ]
  },
  {
   "cell_type": "markdown",
   "metadata": {},
   "source": [
    "# Binning\n",
    "\n",
    "Converting Numerical Age to Categorical Variable\n",
    "\n",
    "feature vector map:\n",
    "child:0\n",
    "young:1\n",
    "adult:2\n",
    "mid-age:3\n",
    "senior:4"
   ]
  },
  {
   "cell_type": "code",
   "execution_count": 24,
   "metadata": {},
   "outputs": [],
   "source": [
    "for dataset in train_test:\n",
    "    dataset.loc[dataset['Age']<=16,'Age']=0,\n",
    "    dataset.loc[(dataset['Age']>16)&(dataset['Age']<=26),'Age']=1,\n",
    "    dataset.loc[(dataset['Age']>26)&(dataset['Age']<=36),'Age']=2,\n",
    "    dataset.loc[(dataset['Age']>36)&(dataset['Age']<=62),'Age']=3,\n",
    "    dataset.loc[(dataset['Age']>62),'Age']=4\n",
    "    "
   ]
  },
  {
   "cell_type": "code",
   "execution_count": 25,
   "metadata": {},
   "outputs": [
    {
     "data": {
      "image/png": "[encoded data removed]",
      "text/plain": [
       "<Figure size 720x360 with 1 Axes>"
      ]
     },
     "metadata": {
      "needs_background": "light"
     },
     "output_type": "display_data"
    }
   ],
   "source": [
    "bar_chart('Age')"
   ]
  },
  {
   "cell_type": "markdown",
   "metadata": {},
   "source": [
    "# Embarked\n",
    "\n",
    "filling missing values"
   ]
  },
  {
   "cell_type": "code",
   "execution_count": 26,
   "metadata": {},
   "outputs": [
    {
     "data": {
      "text/plain": [
       "<matplotlib.axes._subplots.AxesSubplot at 0x1395ba72ec8>"
      ]
     },
     "execution_count": 26,
     "metadata": {},
     "output_type": "execute_result"
    },
    {
     "data": {
      "image/png": "[encoded data removed]",
      "text/plain": [
       "<Figure size 720x360 with 1 Axes>"
      ]
     },
     "metadata": {
      "needs_background": "light"
     },
     "output_type": "display_data"
    }
   ],
   "source": [
    "Pclass1=train[train['Pclass']==1]['Embarked'].value_counts()\n",
    "Pclass2=train[train['Pclass']==2]['Embarked'].value_counts()\n",
    "Pclass3=train[train['Pclass']==3]['Embarked'].value_counts()\n",
    "df=pd.DataFrame([Pclass1,Pclass2,Pclass3])\n",
    "df.index=['1st class','2nd class','3rd class']\n",
    "df.plot(kind='bar',stacked=True,figsize=(10,5))"
   ]
  },
  {
   "cell_type": "markdown",
   "metadata": {},
   "source": [
    "Observation:In the graph,it is clearly visible that ,more than 50% of people in a class have embarked from S.Hence we will use to rplace all NaN values in Embarked coulmn"
   ]
  },
  {
   "cell_type": "code",
   "execution_count": 27,
   "metadata": {},
   "outputs": [],
   "source": [
    "for dataset in train_test:\n",
    "    dataset['Embarked']=dataset['Embarked'].fillna('S')"
   ]
  },
  {
   "cell_type": "code",
   "execution_count": 28,
   "metadata": {
    "scrolled": true
   },
   "outputs": [
    {
     "data": {
      "text/html": [
       "<div>\n",
       "<style scoped>\n",
       "    .dataframe tbody tr th:only-of-type {\n",
       "        vertical-align: middle;\n",
       "    }\n",
       "\n",
       "    .dataframe tbody tr th {\n",
       "        vertical-align: top;\n",
       "    }\n",
       "\n",
       "    .dataframe thead th {\n",
       "        text-align: right;\n",
       "    }\n",
       "</style>\n",
       "<table border=\"1\" class=\"dataframe\">\n",
       "  <thead>\n",
       "    <tr style=\"text-align: right;\">\n",
       "      <th></th>\n",
       "      <th>PassengerId</th>\n",
       "      <th>Survived</th>\n",
       "      <th>Pclass</th>\n",
       "      <th>Sex</th>\n",
       "      <th>Age</th>\n",
       "      <th>SibSp</th>\n",
       "      <th>Parch</th>\n",
       "      <th>Ticket</th>\n",
       "      <th>Fare</th>\n",
       "      <th>Cabin</th>\n",
       "      <th>Embarked</th>\n",
       "      <th>Title</th>\n",
       "    </tr>\n",
       "  </thead>\n",
       "  <tbody>\n",
       "    <tr>\n",
       "      <th>0</th>\n",
       "      <td>1</td>\n",
       "      <td>0</td>\n",
       "      <td>3</td>\n",
       "      <td>0</td>\n",
       "      <td>1.0</td>\n",
       "      <td>1</td>\n",
       "      <td>0</td>\n",
       "      <td>A/5 21171</td>\n",
       "      <td>7.2500</td>\n",
       "      <td>NaN</td>\n",
       "      <td>S</td>\n",
       "      <td>0.0</td>\n",
       "    </tr>\n",
       "    <tr>\n",
       "      <th>1</th>\n",
       "      <td>2</td>\n",
       "      <td>1</td>\n",
       "      <td>1</td>\n",
       "      <td>1</td>\n",
       "      <td>3.0</td>\n",
       "      <td>1</td>\n",
       "      <td>0</td>\n",
       "      <td>PC 17599</td>\n",
       "      <td>71.2833</td>\n",
       "      <td>C85</td>\n",
       "      <td>C</td>\n",
       "      <td>2.0</td>\n",
       "    </tr>\n",
       "    <tr>\n",
       "      <th>2</th>\n",
       "      <td>3</td>\n",
       "      <td>1</td>\n",
       "      <td>3</td>\n",
       "      <td>1</td>\n",
       "      <td>1.0</td>\n",
       "      <td>0</td>\n",
       "      <td>0</td>\n",
       "      <td>STON/O2. 3101282</td>\n",
       "      <td>7.9250</td>\n",
       "      <td>NaN</td>\n",
       "      <td>S</td>\n",
       "      <td>1.0</td>\n",
       "    </tr>\n",
       "    <tr>\n",
       "      <th>3</th>\n",
       "      <td>4</td>\n",
       "      <td>1</td>\n",
       "      <td>1</td>\n",
       "      <td>1</td>\n",
       "      <td>2.0</td>\n",
       "      <td>1</td>\n",
       "      <td>0</td>\n",
       "      <td>113803</td>\n",
       "      <td>53.1000</td>\n",
       "      <td>C123</td>\n",
       "      <td>S</td>\n",
       "      <td>2.0</td>\n",
       "    </tr>\n",
       "    <tr>\n",
       "      <th>4</th>\n",
       "      <td>5</td>\n",
       "      <td>0</td>\n",
       "      <td>3</td>\n",
       "      <td>0</td>\n",
       "      <td>2.0</td>\n",
       "      <td>0</td>\n",
       "      <td>0</td>\n",
       "      <td>373450</td>\n",
       "      <td>8.0500</td>\n",
       "      <td>NaN</td>\n",
       "      <td>S</td>\n",
       "      <td>0.0</td>\n",
       "    </tr>\n",
       "  </tbody>\n",
       "</table>\n",
       "</div>"
      ],
      "text/plain": [
       "   PassengerId  Survived  Pclass  Sex  Age  SibSp  Parch            Ticket  \\\n",
       "0            1         0       3    0  1.0      1      0         A/5 21171   \n",
       "1            2         1       1    1  3.0      1      0          PC 17599   \n",
       "2            3         1       3    1  1.0      0      0  STON/O2. 3101282   \n",
       "3            4         1       1    1  2.0      1      0            113803   \n",
       "4            5         0       3    0  2.0      0      0            373450   \n",
       "\n",
       "      Fare Cabin Embarked  Title  \n",
       "0   7.2500   NaN        S    0.0  \n",
       "1  71.2833   C85        C    2.0  \n",
       "2   7.9250   NaN        S    1.0  \n",
       "3  53.1000  C123        S    2.0  \n",
       "4   8.0500   NaN        S    0.0  "
      ]
     },
     "execution_count": 28,
     "metadata": {},
     "output_type": "execute_result"
    }
   ],
   "source": [
    "train.head()"
   ]
  },
  {
   "cell_type": "code",
   "execution_count": 29,
   "metadata": {},
   "outputs": [],
   "source": [
    "embarked_mapping={'S':0,'C':1,'Q':2}\n",
    "for dataset in train_test:\n",
    "    dataset['Embarked']=dataset['Embarked'].map(embarked_mapping)"
   ]
  },
  {
   "cell_type": "code",
   "execution_count": 30,
   "metadata": {},
   "outputs": [
    {
     "data": {
      "text/html": [
       "<div>\n",
       "<style scoped>\n",
       "    .dataframe tbody tr th:only-of-type {\n",
       "        vertical-align: middle;\n",
       "    }\n",
       "\n",
       "    .dataframe tbody tr th {\n",
       "        vertical-align: top;\n",
       "    }\n",
       "\n",
       "    .dataframe thead th {\n",
       "        text-align: right;\n",
       "    }\n",
       "</style>\n",
       "<table border=\"1\" class=\"dataframe\">\n",
       "  <thead>\n",
       "    <tr style=\"text-align: right;\">\n",
       "      <th></th>\n",
       "      <th>PassengerId</th>\n",
       "      <th>Pclass</th>\n",
       "      <th>Sex</th>\n",
       "      <th>Age</th>\n",
       "      <th>SibSp</th>\n",
       "      <th>Parch</th>\n",
       "      <th>Ticket</th>\n",
       "      <th>Fare</th>\n",
       "      <th>Cabin</th>\n",
       "      <th>Embarked</th>\n",
       "      <th>Title</th>\n",
       "    </tr>\n",
       "  </thead>\n",
       "  <tbody>\n",
       "    <tr>\n",
       "      <th>0</th>\n",
       "      <td>892</td>\n",
       "      <td>3</td>\n",
       "      <td>0</td>\n",
       "      <td>2.0</td>\n",
       "      <td>0</td>\n",
       "      <td>0</td>\n",
       "      <td>330911</td>\n",
       "      <td>7.8292</td>\n",
       "      <td>NaN</td>\n",
       "      <td>2</td>\n",
       "      <td>0</td>\n",
       "    </tr>\n",
       "    <tr>\n",
       "      <th>1</th>\n",
       "      <td>893</td>\n",
       "      <td>3</td>\n",
       "      <td>1</td>\n",
       "      <td>3.0</td>\n",
       "      <td>1</td>\n",
       "      <td>0</td>\n",
       "      <td>363272</td>\n",
       "      <td>7.0000</td>\n",
       "      <td>NaN</td>\n",
       "      <td>0</td>\n",
       "      <td>2</td>\n",
       "    </tr>\n",
       "    <tr>\n",
       "      <th>2</th>\n",
       "      <td>894</td>\n",
       "      <td>2</td>\n",
       "      <td>0</td>\n",
       "      <td>3.0</td>\n",
       "      <td>0</td>\n",
       "      <td>0</td>\n",
       "      <td>240276</td>\n",
       "      <td>9.6875</td>\n",
       "      <td>NaN</td>\n",
       "      <td>2</td>\n",
       "      <td>0</td>\n",
       "    </tr>\n",
       "    <tr>\n",
       "      <th>3</th>\n",
       "      <td>895</td>\n",
       "      <td>3</td>\n",
       "      <td>0</td>\n",
       "      <td>2.0</td>\n",
       "      <td>0</td>\n",
       "      <td>0</td>\n",
       "      <td>315154</td>\n",
       "      <td>8.6625</td>\n",
       "      <td>NaN</td>\n",
       "      <td>0</td>\n",
       "      <td>0</td>\n",
       "    </tr>\n",
       "    <tr>\n",
       "      <th>4</th>\n",
       "      <td>896</td>\n",
       "      <td>3</td>\n",
       "      <td>1</td>\n",
       "      <td>1.0</td>\n",
       "      <td>1</td>\n",
       "      <td>1</td>\n",
       "      <td>3101298</td>\n",
       "      <td>12.2875</td>\n",
       "      <td>NaN</td>\n",
       "      <td>0</td>\n",
       "      <td>2</td>\n",
       "    </tr>\n",
       "  </tbody>\n",
       "</table>\n",
       "</div>"
      ],
      "text/plain": [
       "   PassengerId  Pclass  Sex  Age  SibSp  Parch   Ticket     Fare Cabin  \\\n",
       "0          892       3    0  2.0      0      0   330911   7.8292   NaN   \n",
       "1          893       3    1  3.0      1      0   363272   7.0000   NaN   \n",
       "2          894       2    0  3.0      0      0   240276   9.6875   NaN   \n",
       "3          895       3    0  2.0      0      0   315154   8.6625   NaN   \n",
       "4          896       3    1  1.0      1      1  3101298  12.2875   NaN   \n",
       "\n",
       "   Embarked  Title  \n",
       "0         2      0  \n",
       "1         0      2  \n",
       "2         2      0  \n",
       "3         0      0  \n",
       "4         0      2  "
      ]
     },
     "execution_count": 30,
     "metadata": {},
     "output_type": "execute_result"
    }
   ],
   "source": [
    "test.head()"
   ]
  },
  {
   "cell_type": "markdown",
   "metadata": {},
   "source": [
    "# Fare"
   ]
  },
  {
   "cell_type": "code",
   "execution_count": 31,
   "metadata": {},
   "outputs": [],
   "source": [
    "# filling missing Fare with median fare for each Pclass\n",
    "train['Fare'].fillna(train.groupby('Pclass')['Fare'].transform('median'),inplace=True)\n",
    "test['Fare'].fillna(test.groupby('Pclass')['Fare'].transform('median'),inplace=True)"
   ]
  },
  {
   "cell_type": "code",
   "execution_count": 32,
   "metadata": {},
   "outputs": [
    {
     "data": {
      "image/png": "[encoded data removed]",
      "text/plain": [
       "<Figure size 915.875x216 with 1 Axes>"
      ]
     },
     "metadata": {
      "needs_background": "light"
     },
     "output_type": "display_data"
    }
   ],
   "source": [
    "facet=sns.FacetGrid(train,hue='Survived',aspect=4)\n",
    "facet.map(sns.kdeplot,'Fare',shade=True)\n",
    "facet.set(xlim=(0,train['Fare'].max()))\n",
    "facet.add_legend()\n",
    "plt.show()"
   ]
  },
  {
   "cell_type": "code",
   "execution_count": 33,
   "metadata": {},
   "outputs": [
    {
     "data": {
      "text/plain": [
       "(0.0, 20.0)"
      ]
     },
     "execution_count": 33,
     "metadata": {},
     "output_type": "execute_result"
    },
    {
     "data": {
      "image/png": "[encoded data removed]",
      "text/plain": [
       "<Figure size 915.875x216 with 1 Axes>"
      ]
     },
     "metadata": {
      "needs_background": "light"
     },
     "output_type": "display_data"
    }
   ],
   "source": [
    "facet=sns.FacetGrid(train,hue='Survived',aspect=4)\n",
    "facet.map(sns.kdeplot,'Fare',shade=True)\n",
    "facet.set(xlim=(0,train['Fare'].max()))\n",
    "facet.add_legend()\n",
    "plt.xlim(0,20)"
   ]
  },
  {
   "cell_type": "code",
   "execution_count": 34,
   "metadata": {},
   "outputs": [
    {
     "data": {
      "text/plain": [
       "(0.0, 30.0)"
      ]
     },
     "execution_count": 34,
     "metadata": {},
     "output_type": "execute_result"
    },
    {
     "data": {
      "image/png": "[encoded data removed]",
      "text/plain": [
       "<Figure size 915.875x216 with 1 Axes>"
      ]
     },
     "metadata": {
      "needs_background": "light"
     },
     "output_type": "display_data"
    }
   ],
   "source": [
    "facet=sns.FacetGrid(train,hue='Survived',aspect=4)\n",
    "facet.map(sns.kdeplot,'Fare',shade=True)\n",
    "facet.set(xlim=(0,train['Fare'].max()))\n",
    "facet.add_legend()\n",
    "plt.xlim(0,30)"
   ]
  },
  {
   "cell_type": "code",
   "execution_count": 35,
   "metadata": {},
   "outputs": [],
   "source": [
    "for dataset in train_test:\n",
    "    dataset.loc[dataset['Fare']<=17,'Fare']=0,\n",
    "    dataset.loc[(dataset['Fare']>17 )&(dataset['Fare']<=30),'Fare']=1,\n",
    "    dataset.loc[(dataset['Fare']>30)&(dataset['Fare']<=100),'Fare']=2,\n",
    "    dataset.loc[dataset['Fare']>100,'Fare']=3          "
   ]
  },
  {
   "cell_type": "code",
   "execution_count": 36,
   "metadata": {},
   "outputs": [
    {
     "data": {
      "image/png": "[encoded data removed]",
      "text/plain": [
       "<Figure size 720x360 with 1 Axes>"
      ]
     },
     "metadata": {
      "needs_background": "light"
     },
     "output_type": "display_data"
    }
   ],
   "source": [
    "bar_chart('Fare')"
   ]
  },
  {
   "cell_type": "markdown",
   "metadata": {},
   "source": [
    "# 4.7 Cabin"
   ]
  },
  {
   "cell_type": "code",
   "execution_count": 37,
   "metadata": {},
   "outputs": [
    {
     "data": {
      "text/plain": [
       "B96 B98            4\n",
       "C23 C25 C27        4\n",
       "G6                 4\n",
       "F2                 3\n",
       "E101               3\n",
       "F33                3\n",
       "D                  3\n",
       "C22 C26            3\n",
       "C65                2\n",
       "C2                 2\n",
       "B51 B53 B55        2\n",
       "B49                2\n",
       "D36                2\n",
       "E33                2\n",
       "D26                2\n",
       "D33                2\n",
       "C93                2\n",
       "D20                2\n",
       "B22                2\n",
       "C123               2\n",
       "B20                2\n",
       "B5                 2\n",
       "C52                2\n",
       "B77                2\n",
       "E67                2\n",
       "F G73              2\n",
       "B35                2\n",
       "C92                2\n",
       "C124               2\n",
       "E8                 2\n",
       "B18                2\n",
       "E24                2\n",
       "C78                2\n",
       "D35                2\n",
       "E25                2\n",
       "F4                 2\n",
       "C125               2\n",
       "B28                2\n",
       "D17                2\n",
       "C83                2\n",
       "C126               2\n",
       "E121               2\n",
       "C68                2\n",
       "B58 B60            2\n",
       "B57 B59 B63 B66    2\n",
       "E44                2\n",
       "A32                1\n",
       "B101               1\n",
       "D49                1\n",
       "C54                1\n",
       "C91                1\n",
       "C103               1\n",
       "C95                1\n",
       "E17                1\n",
       "C49                1\n",
       "D9                 1\n",
       "A23                1\n",
       "D45                1\n",
       "C85                1\n",
       "B30                1\n",
       "D46                1\n",
       "B71                1\n",
       "B102               1\n",
       "F G63              1\n",
       "C45                1\n",
       "D56                1\n",
       "B19                1\n",
       "E63                1\n",
       "D19                1\n",
       "F38                1\n",
       "D28                1\n",
       "B39                1\n",
       "B78                1\n",
       "B80                1\n",
       "D48                1\n",
       "C46                1\n",
       "E10                1\n",
       "D10 D12            1\n",
       "D47                1\n",
       "C50                1\n",
       "A24                1\n",
       "B86                1\n",
       "D15                1\n",
       "A31                1\n",
       "E31                1\n",
       "B73                1\n",
       "B41                1\n",
       "B38                1\n",
       "A36                1\n",
       "A6                 1\n",
       "A20                1\n",
       "E49                1\n",
       "A26                1\n",
       "E77                1\n",
       "C148               1\n",
       "A34                1\n",
       "C104               1\n",
       "B4                 1\n",
       "C32                1\n",
       "E50                1\n",
       "E68                1\n",
       "D21                1\n",
       "B37                1\n",
       "C87                1\n",
       "E12                1\n",
       "C70                1\n",
       "C62 C64            1\n",
       "E36                1\n",
       "B69                1\n",
       "C118               1\n",
       "D37                1\n",
       "E34                1\n",
       "B42                1\n",
       "C86                1\n",
       "C106               1\n",
       "D11                1\n",
       "C82                1\n",
       "C110               1\n",
       "A16                1\n",
       "C7                 1\n",
       "C128               1\n",
       "D50                1\n",
       "D30                1\n",
       "D6                 1\n",
       "C101               1\n",
       "C90                1\n",
       "E38                1\n",
       "B82 B84            1\n",
       "A5                 1\n",
       "B50                1\n",
       "C30                1\n",
       "F E69              1\n",
       "A10                1\n",
       "B3                 1\n",
       "E40                1\n",
       "T                  1\n",
       "E46                1\n",
       "A7                 1\n",
       "E58                1\n",
       "A14                1\n",
       "C47                1\n",
       "D7                 1\n",
       "A19                1\n",
       "B79                1\n",
       "C99                1\n",
       "B94                1\n",
       "C111               1\n",
       "Name: Cabin, dtype: int64"
      ]
     },
     "execution_count": 37,
     "metadata": {},
     "output_type": "execute_result"
    }
   ],
   "source": [
    "train.Cabin.value_counts()"
   ]
  },
  {
   "cell_type": "code",
   "execution_count": 38,
   "metadata": {},
   "outputs": [],
   "source": [
    "for dataset in train_test:\n",
    "    dataset['Cabin']=dataset['Cabin'].str[:1]"
   ]
  },
  {
   "cell_type": "code",
   "execution_count": 39,
   "metadata": {},
   "outputs": [
    {
     "data": {
      "text/plain": [
       "<matplotlib.axes._subplots.AxesSubplot at 0x1395bd38448>"
      ]
     },
     "execution_count": 39,
     "metadata": {},
     "output_type": "execute_result"
    },
    {
     "data": {
      "image/png": "[encoded data removed]",
      "text/plain": [
       "<Figure size 720x360 with 1 Axes>"
      ]
     },
     "metadata": {
      "needs_background": "light"
     },
     "output_type": "display_data"
    }
   ],
   "source": [
    "Pclass1=train[train['Pclass']==1]['Cabin'].value_counts()\n",
    "Pclass2=train[train['Pclass']==2]['Cabin'].value_counts()\n",
    "Pclass3=train[train['Pclass']==3]['Cabin'].value_counts()\n",
    "df=pd.DataFrame([Pclass1,Pclass2,Pclass3])\n",
    "df.index=['1st class','2nd class','3rd class']\n",
    "df.plot(kind='bar',stacked=True,figsize=(10,5))"
   ]
  },
  {
   "cell_type": "code",
   "execution_count": 40,
   "metadata": {},
   "outputs": [
    {
     "data": {
      "text/html": [
       "<div>\n",
       "<style scoped>\n",
       "    .dataframe tbody tr th:only-of-type {\n",
       "        vertical-align: middle;\n",
       "    }\n",
       "\n",
       "    .dataframe tbody tr th {\n",
       "        vertical-align: top;\n",
       "    }\n",
       "\n",
       "    .dataframe thead th {\n",
       "        text-align: right;\n",
       "    }\n",
       "</style>\n",
       "<table border=\"1\" class=\"dataframe\">\n",
       "  <thead>\n",
       "    <tr style=\"text-align: right;\">\n",
       "      <th></th>\n",
       "      <th>C</th>\n",
       "      <th>B</th>\n",
       "      <th>D</th>\n",
       "      <th>E</th>\n",
       "      <th>A</th>\n",
       "      <th>T</th>\n",
       "      <th>F</th>\n",
       "      <th>G</th>\n",
       "    </tr>\n",
       "  </thead>\n",
       "  <tbody>\n",
       "    <tr>\n",
       "      <th>1st class</th>\n",
       "      <td>59.0</td>\n",
       "      <td>47.0</td>\n",
       "      <td>29.0</td>\n",
       "      <td>25.0</td>\n",
       "      <td>15.0</td>\n",
       "      <td>1.0</td>\n",
       "      <td>NaN</td>\n",
       "      <td>NaN</td>\n",
       "    </tr>\n",
       "    <tr>\n",
       "      <th>2nd class</th>\n",
       "      <td>NaN</td>\n",
       "      <td>NaN</td>\n",
       "      <td>4.0</td>\n",
       "      <td>4.0</td>\n",
       "      <td>NaN</td>\n",
       "      <td>NaN</td>\n",
       "      <td>8.0</td>\n",
       "      <td>NaN</td>\n",
       "    </tr>\n",
       "    <tr>\n",
       "      <th>3rd class</th>\n",
       "      <td>NaN</td>\n",
       "      <td>NaN</td>\n",
       "      <td>NaN</td>\n",
       "      <td>3.0</td>\n",
       "      <td>NaN</td>\n",
       "      <td>NaN</td>\n",
       "      <td>5.0</td>\n",
       "      <td>4.0</td>\n",
       "    </tr>\n",
       "  </tbody>\n",
       "</table>\n",
       "</div>"
      ],
      "text/plain": [
       "              C     B     D     E     A    T    F    G\n",
       "1st class  59.0  47.0  29.0  25.0  15.0  1.0  NaN  NaN\n",
       "2nd class   NaN   NaN   4.0   4.0   NaN  NaN  8.0  NaN\n",
       "3rd class   NaN   NaN   NaN   3.0   NaN  NaN  5.0  4.0"
      ]
     },
     "execution_count": 40,
     "metadata": {},
     "output_type": "execute_result"
    }
   ],
   "source": [
    "df.head()"
   ]
  },
  {
   "cell_type": "code",
   "execution_count": 41,
   "metadata": {},
   "outputs": [
    {
     "data": {
      "text/plain": [
       "F    5\n",
       "G    4\n",
       "E    3\n",
       "Name: Cabin, dtype: int64"
      ]
     },
     "execution_count": 41,
     "metadata": {},
     "output_type": "execute_result"
    }
   ],
   "source": [
    "Pclass3"
   ]
  },
  {
   "cell_type": "code",
   "execution_count": 42,
   "metadata": {},
   "outputs": [],
   "source": [
    "cabin_mapping={'A':0,'B':0.4,'C':0.8,'D':1.2,'E':1.6,'F':2,'G':2.4,'T':2.8}\n",
    "for dataset in train_test:\n",
    "    dataset['Cabin']=dataset['Cabin'].map(cabin_mapping)"
   ]
  },
  {
   "cell_type": "code",
   "execution_count": 43,
   "metadata": {},
   "outputs": [],
   "source": [
    "# fill missing Fare with median fare for each Pclass\n",
    "train['Cabin'].fillna(train.groupby('Pclass')['Cabin'].transform('median'),inplace=True)\n",
    "test['Cabin'].fillna(train.groupby('Pclass')['Cabin'].transform('median'),inplace=True)"
   ]
  },
  {
   "cell_type": "markdown",
   "metadata": {},
   "source": [
    "#  4.8 FamilySize"
   ]
  },
  {
   "cell_type": "code",
   "execution_count": 44,
   "metadata": {},
   "outputs": [],
   "source": [
    "train['FamilySize']=train['SibSp']+train['Parch']+1\n",
    "test['FamilySize']=test['SibSp']+test['Parch']+1"
   ]
  },
  {
   "cell_type": "code",
   "execution_count": 45,
   "metadata": {},
   "outputs": [
    {
     "data": {
      "text/plain": [
       "(0.0, 11.0)"
      ]
     },
     "execution_count": 45,
     "metadata": {},
     "output_type": "execute_result"
    },
    {
     "data": {
      "image/png": "[encoded data removed]",
      "text/plain": [
       "<Figure size 915.875x216 with 1 Axes>"
      ]
     },
     "metadata": {
      "needs_background": "light"
     },
     "output_type": "display_data"
    }
   ],
   "source": [
    "facet=sns.FacetGrid(train,hue='Survived',aspect=4)\n",
    "facet.map(sns.kdeplot,'FamilySize',shade=True)\n",
    "facet.set(xlim=(0,train['FamilySize'].max()))\n",
    "facet.add_legend()\n",
    "plt.xlim(0)"
   ]
  },
  {
   "cell_type": "code",
   "execution_count": 46,
   "metadata": {},
   "outputs": [],
   "source": [
    "family_mapping={1:0,2:0.4,3:0.8,4:1.2,5:1.6,6:2,7:2.4,8:2.8,9:3.2,10:3.6,11:4}\n",
    "for dataset in train_test:\n",
    "        dataset['FamilySize']=dataset['FamilySize'].map(family_mapping)"
   ]
  },
  {
   "cell_type": "code",
   "execution_count": 47,
   "metadata": {
    "scrolled": true
   },
   "outputs": [
    {
     "data": {
      "text/html": [
       "<div>\n",
       "<style scoped>\n",
       "    .dataframe tbody tr th:only-of-type {\n",
       "        vertical-align: middle;\n",
       "    }\n",
       "\n",
       "    .dataframe tbody tr th {\n",
       "        vertical-align: top;\n",
       "    }\n",
       "\n",
       "    .dataframe thead th {\n",
       "        text-align: right;\n",
       "    }\n",
       "</style>\n",
       "<table border=\"1\" class=\"dataframe\">\n",
       "  <thead>\n",
       "    <tr style=\"text-align: right;\">\n",
       "      <th></th>\n",
       "      <th>PassengerId</th>\n",
       "      <th>Survived</th>\n",
       "      <th>Pclass</th>\n",
       "      <th>Sex</th>\n",
       "      <th>Age</th>\n",
       "      <th>SibSp</th>\n",
       "      <th>Parch</th>\n",
       "      <th>Ticket</th>\n",
       "      <th>Fare</th>\n",
       "      <th>Cabin</th>\n",
       "      <th>Embarked</th>\n",
       "      <th>Title</th>\n",
       "      <th>FamilySize</th>\n",
       "    </tr>\n",
       "  </thead>\n",
       "  <tbody>\n",
       "    <tr>\n",
       "      <th>0</th>\n",
       "      <td>1</td>\n",
       "      <td>0</td>\n",
       "      <td>3</td>\n",
       "      <td>0</td>\n",
       "      <td>1.0</td>\n",
       "      <td>1</td>\n",
       "      <td>0</td>\n",
       "      <td>A/5 21171</td>\n",
       "      <td>0.0</td>\n",
       "      <td>2.0</td>\n",
       "      <td>0</td>\n",
       "      <td>0.0</td>\n",
       "      <td>0.4</td>\n",
       "    </tr>\n",
       "    <tr>\n",
       "      <th>1</th>\n",
       "      <td>2</td>\n",
       "      <td>1</td>\n",
       "      <td>1</td>\n",
       "      <td>1</td>\n",
       "      <td>3.0</td>\n",
       "      <td>1</td>\n",
       "      <td>0</td>\n",
       "      <td>PC 17599</td>\n",
       "      <td>2.0</td>\n",
       "      <td>0.8</td>\n",
       "      <td>1</td>\n",
       "      <td>2.0</td>\n",
       "      <td>0.4</td>\n",
       "    </tr>\n",
       "    <tr>\n",
       "      <th>2</th>\n",
       "      <td>3</td>\n",
       "      <td>1</td>\n",
       "      <td>3</td>\n",
       "      <td>1</td>\n",
       "      <td>1.0</td>\n",
       "      <td>0</td>\n",
       "      <td>0</td>\n",
       "      <td>STON/O2. 3101282</td>\n",
       "      <td>0.0</td>\n",
       "      <td>2.0</td>\n",
       "      <td>0</td>\n",
       "      <td>1.0</td>\n",
       "      <td>0.0</td>\n",
       "    </tr>\n",
       "    <tr>\n",
       "      <th>3</th>\n",
       "      <td>4</td>\n",
       "      <td>1</td>\n",
       "      <td>1</td>\n",
       "      <td>1</td>\n",
       "      <td>2.0</td>\n",
       "      <td>1</td>\n",
       "      <td>0</td>\n",
       "      <td>113803</td>\n",
       "      <td>2.0</td>\n",
       "      <td>0.8</td>\n",
       "      <td>0</td>\n",
       "      <td>2.0</td>\n",
       "      <td>0.4</td>\n",
       "    </tr>\n",
       "    <tr>\n",
       "      <th>4</th>\n",
       "      <td>5</td>\n",
       "      <td>0</td>\n",
       "      <td>3</td>\n",
       "      <td>0</td>\n",
       "      <td>2.0</td>\n",
       "      <td>0</td>\n",
       "      <td>0</td>\n",
       "      <td>373450</td>\n",
       "      <td>0.0</td>\n",
       "      <td>2.0</td>\n",
       "      <td>0</td>\n",
       "      <td>0.0</td>\n",
       "      <td>0.0</td>\n",
       "    </tr>\n",
       "  </tbody>\n",
       "</table>\n",
       "</div>"
      ],
      "text/plain": [
       "   PassengerId  Survived  Pclass  Sex  Age  SibSp  Parch            Ticket  \\\n",
       "0            1         0       3    0  1.0      1      0         A/5 21171   \n",
       "1            2         1       1    1  3.0      1      0          PC 17599   \n",
       "2            3         1       3    1  1.0      0      0  STON/O2. 3101282   \n",
       "3            4         1       1    1  2.0      1      0            113803   \n",
       "4            5         0       3    0  2.0      0      0            373450   \n",
       "\n",
       "   Fare  Cabin  Embarked  Title  FamilySize  \n",
       "0   0.0    2.0         0    0.0         0.4  \n",
       "1   2.0    0.8         1    2.0         0.4  \n",
       "2   0.0    2.0         0    1.0         0.0  \n",
       "3   2.0    0.8         0    2.0         0.4  \n",
       "4   0.0    2.0         0    0.0         0.0  "
      ]
     },
     "execution_count": 47,
     "metadata": {},
     "output_type": "execute_result"
    }
   ],
   "source": [
    "train.head()"
   ]
  },
  {
   "cell_type": "code",
   "execution_count": 48,
   "metadata": {},
   "outputs": [],
   "source": [
    "features_drop=['Ticket','SibSp','Parch']\n",
    "train=train.drop(features_drop,axis=1)\n",
    "test=test.drop(features_drop,axis=1)\n",
    "train=train.drop(['PassengerId'],axis=1)"
   ]
  },
  {
   "cell_type": "code",
   "execution_count": 49,
   "metadata": {},
   "outputs": [
    {
     "data": {
      "text/plain": [
       "((891, 8), (891,))"
      ]
     },
     "execution_count": 49,
     "metadata": {},
     "output_type": "execute_result"
    }
   ],
   "source": [
    "train_data=train.drop('Survived',axis=1)\n",
    "target=train['Survived']\n",
    "train_data.shape,target.shape"
   ]
  },
  {
   "cell_type": "code",
   "execution_count": 70,
   "metadata": {},
   "outputs": [],
   "source": [
    "train_data['Title'].fillna(0,inplace=True)"
   ]
  },
  {
   "cell_type": "code",
   "execution_count": 73,
   "metadata": {},
   "outputs": [
    {
     "data": {
      "text/plain": [
       "PassengerId    0\n",
       "Pclass         0\n",
       "Sex            0\n",
       "Age            0\n",
       "Fare           0\n",
       "Cabin          0\n",
       "Embarked       0\n",
       "Title          0\n",
       "FamilySize     0\n",
       "dtype: int64"
      ]
     },
     "execution_count": 73,
     "metadata": {},
     "output_type": "execute_result"
    }
   ],
   "source": [
    "test.isnull().sum()"
   ]
  },
  {
   "cell_type": "markdown",
   "metadata": {},
   "source": [
    "# Modelling"
   ]
  },
  {
   "cell_type": "code",
   "execution_count": 77,
   "metadata": {},
   "outputs": [],
   "source": [
    "# Importing Classifier Modules\n",
    "from sklearn.neighbors import KNeighborsClassifier\n",
    "from sklearn.tree import DecisionTreeClassifier\n",
    "from sklearn.ensemble import RandomForestClassifier\n",
    "from sklearn.naive_bayes import GaussianNB\n",
    "from sklearn.svm import SVC\n",
    "\n",
    "import numpy as np"
   ]
  },
  {
   "cell_type": "code",
   "execution_count": 74,
   "metadata": {},
   "outputs": [
    {
     "name": "stdout",
     "output_type": "stream",
     "text": [
      "<class 'pandas.core.frame.DataFrame'>\n",
      "RangeIndex: 891 entries, 0 to 890\n",
      "Data columns (total 9 columns):\n",
      " #   Column      Non-Null Count  Dtype  \n",
      "---  ------      --------------  -----  \n",
      " 0   Survived    891 non-null    int64  \n",
      " 1   Pclass      891 non-null    int64  \n",
      " 2   Sex         891 non-null    int64  \n",
      " 3   Age         891 non-null    float64\n",
      " 4   Fare        891 non-null    float64\n",
      " 5   Cabin       891 non-null    float64\n",
      " 6   Embarked    891 non-null    int64  \n",
      " 7   Title       891 non-null    float64\n",
      " 8   FamilySize  891 non-null    float64\n",
      "dtypes: float64(5), int64(4)\n",
      "memory usage: 62.8 KB\n"
     ]
    }
   ],
   "source": [
    "train.info()"
   ]
  },
  {
   "cell_type": "markdown",
   "metadata": {},
   "source": [
    "# Cross Validation(k-fold)"
   ]
  },
  {
   "cell_type": "code",
   "execution_count": 78,
   "metadata": {},
   "outputs": [],
   "source": [
    "from sklearn.model_selection import KFold\n",
    "from sklearn.model_selection import cross_val_score\n",
    "k_fold=KFold(n_splits=10,shuffle=True,random_state=0)"
   ]
  },
  {
   "cell_type": "markdown",
   "metadata": {},
   "source": [
    "# kNN"
   ]
  },
  {
   "cell_type": "code",
   "execution_count": 79,
   "metadata": {},
   "outputs": [
    {
     "name": "stdout",
     "output_type": "stream",
     "text": [
      "[0.82222222 0.76404494 0.80898876 0.83146067 0.87640449 0.82022472\n",
      " 0.85393258 0.79775281 0.84269663 0.84269663]\n"
     ]
    }
   ],
   "source": [
    "clf=KNeighborsClassifier(n_neighbors=13)\n",
    "scoring='accuracy'\n",
    "score=cross_val_score(clf,train_data,target,cv=k_fold,n_jobs=1,scoring=scoring)\n",
    "print(score)"
   ]
  },
  {
   "cell_type": "code",
   "execution_count": 80,
   "metadata": {},
   "outputs": [
    {
     "data": {
      "text/plain": [
       "82.6"
      ]
     },
     "execution_count": 80,
     "metadata": {},
     "output_type": "execute_result"
    }
   ],
   "source": [
    "#kNN Score\n",
    "round(np.mean(score)*100,2)"
   ]
  },
  {
   "cell_type": "markdown",
   "metadata": {},
   "source": [
    "# Decision Tree"
   ]
  },
  {
   "cell_type": "code",
   "execution_count": 81,
   "metadata": {},
   "outputs": [
    {
     "name": "stdout",
     "output_type": "stream",
     "text": [
      "[0.75555556 0.79775281 0.7752809  0.76404494 0.88764045 0.76404494\n",
      " 0.84269663 0.80898876 0.75280899 0.78651685]\n"
     ]
    }
   ],
   "source": [
    "clf=DecisionTreeClassifier()\n",
    "scoring='accuracy'\n",
    "score=cross_val_score(clf,train_data,target,cv=k_fold,n_jobs=1,scoring=scoring)\n",
    "print(score)"
   ]
  },
  {
   "cell_type": "code",
   "execution_count": 82,
   "metadata": {},
   "outputs": [
    {
     "data": {
      "text/plain": [
       "79.35"
      ]
     },
     "execution_count": 82,
     "metadata": {},
     "output_type": "execute_result"
    }
   ],
   "source": [
    "# decision tree score\n",
    "round(np.mean(score)*100,2)"
   ]
  },
  {
   "cell_type": "markdown",
   "metadata": {},
   "source": [
    "# Random Forest "
   ]
  },
  {
   "cell_type": "code",
   "execution_count": 83,
   "metadata": {},
   "outputs": [
    {
     "name": "stdout",
     "output_type": "stream",
     "text": [
      "[0.81111111 0.83146067 0.82022472 0.79775281 0.86516854 0.80898876\n",
      " 0.82022472 0.80898876 0.76404494 0.80898876]\n"
     ]
    }
   ],
   "source": [
    "clf=RandomForestClassifier()\n",
    "scoring='accuracy'\n",
    "score=cross_val_score(clf,train_data,target,cv=k_fold,n_jobs=1,scoring=scoring)\n",
    "print(score)"
   ]
  },
  {
   "cell_type": "code",
   "execution_count": 84,
   "metadata": {},
   "outputs": [
    {
     "data": {
      "text/plain": [
       "81.37"
      ]
     },
     "execution_count": 84,
     "metadata": {},
     "output_type": "execute_result"
    }
   ],
   "source": [
    "# Random Forest Score\n",
    "round(np.mean(score)*100,2"
   ]
  },
  {
   "cell_type": "markdown",
   "metadata": {},
   "source": [
    "# Naive Bayes\n"
   ]
  },
  {
   "cell_type": "code",
   "execution_count": 85,
   "metadata": {},
   "outputs": [
    {
     "name": "stdout",
     "output_type": "stream",
     "text": [
      "[0.85555556 0.74157303 0.75280899 0.75280899 0.70786517 0.79775281\n",
      " 0.76404494 0.80898876 0.85393258 0.83146067]\n"
     ]
    }
   ],
   "source": [
    "clf=GaussianNB()\n",
    "scoring='accuracy'\n",
    "score=cross_val_score(clf,train_data,target,cv=k_fold,n_jobs=1,scoring=scoring)\n",
    "print(score)"
   ]
  },
  {
   "cell_type": "code",
   "execution_count": 87,
   "metadata": {},
   "outputs": [
    {
     "data": {
      "text/plain": [
       "78.67"
      ]
     },
     "execution_count": 87,
     "metadata": {},
     "output_type": "execute_result"
    }
   ],
   "source": [
    "# naive bayes\n",
    "round(np.mean(score)*100,2)"
   ]
  },
  {
   "cell_type": "markdown",
   "metadata": {},
   "source": [
    "# SVM"
   ]
  },
  {
   "cell_type": "code",
   "execution_count": 88,
   "metadata": {},
   "outputs": [
    {
     "name": "stdout",
     "output_type": "stream",
     "text": [
      "[0.83333333 0.79775281 0.83146067 0.82022472 0.84269663 0.80898876\n",
      " 0.84269663 0.85393258 0.84269663 0.86516854]\n"
     ]
    }
   ],
   "source": [
    "clf=SVC()\n",
    "scoring='accuracy'\n",
    "score=cross_val_score(clf,train_data,target,cv=k_fold,n_jobs=1,scoring=scoring)\n",
    "print(score)"
   ]
  },
  {
   "cell_type": "code",
   "execution_count": 89,
   "metadata": {},
   "outputs": [
    {
     "data": {
      "text/plain": [
       "83.39"
      ]
     },
     "execution_count": 89,
     "metadata": {},
     "output_type": "execute_result"
    }
   ],
   "source": [
    "# SVM\n",
    "round(np.mean(score)*100,2)"
   ]
  },
  {
   "cell_type": "markdown",
   "metadata": {},
   "source": [
    "# Testing"
   ]
  },
  {
   "cell_type": "code",
   "execution_count": 90,
   "metadata": {},
   "outputs": [],
   "source": [
    "clf=SVC()\n",
    "clf.fit(train_data,target)20\n",
    "\n",
    "test_data=test.drop('PassengerId',axis=1).copy()\n",
    "prediction=clf.predict(test_data)"
   ]
  },
  {
   "cell_type": "code",
   "execution_count": 91,
   "metadata": {},
   "outputs": [],
   "source": [
    "submit=pd.DataFrame({'PassengerId':test['PassengerId'],'Survived':prediction})\n",
    "\n",
    "submit.to_csv('submit.csv',index=False)"
   ]
  },
  {
   "cell_type": "code",
   "execution_count": 93,
   "metadata": {},
   "outputs": [
    {
     "data": {
      "text/html": [
       "<div>\n",
       "<style scoped>\n",
       "    .dataframe tbody tr th:only-of-type {\n",
       "        vertical-align: middle;\n",
       "    }\n",
       "\n",
       "    .dataframe tbody tr th {\n",
       "        vertical-align: top;\n",
       "    }\n",
       "\n",
       "    .dataframe thead th {\n",
       "        text-align: right;\n",
       "    }\n",
       "</style>\n",
       "<table border=\"1\" class=\"dataframe\">\n",
       "  <thead>\n",
       "    <tr style=\"text-align: right;\">\n",
       "      <th></th>\n",
       "      <th>PassengerId</th>\n",
       "      <th>Survived</th>\n",
       "    </tr>\n",
       "  </thead>\n",
       "  <tbody>\n",
       "    <tr>\n",
       "      <th>0</th>\n",
       "      <td>892</td>\n",
       "      <td>0</td>\n",
       "    </tr>\n",
       "    <tr>\n",
       "      <th>1</th>\n",
       "      <td>893</td>\n",
       "      <td>1</td>\n",
       "    </tr>\n",
       "    <tr>\n",
       "      <th>2</th>\n",
       "      <td>894</td>\n",
       "      <td>0</td>\n",
       "    </tr>\n",
       "    <tr>\n",
       "      <th>3</th>\n",
       "      <td>895</td>\n",
       "      <td>0</td>\n",
       "    </tr>\n",
       "    <tr>\n",
       "      <th>4</th>\n",
       "      <td>896</td>\n",
       "      <td>1</td>\n",
       "    </tr>\n",
       "  </tbody>\n",
       "</table>\n",
       "</div>"
      ],
      "text/plain": [
       "   PassengerId  Survived\n",
       "0          892         0\n",
       "1          893         1\n",
       "2          894         0\n",
       "3          895         0\n",
       "4          896         1"
      ]
     },
     "execution_count": 93,
     "metadata": {},
     "output_type": "execute_result"
    }
   ],
   "source": [
    "sub=pd.read_csv('submit.csv')\n",
    "sub.head()"
   ]
  },
  {
   "cell_type": "code",
   "execution_count": null,
   "metadata": {},
   "outputs": [],
   "source": []
  }
 ],
 "metadata": {
  "kernelspec": {
   "display_name": "Python 3",
   "language": "python",
   "name": "python3"
  },
  "language_info": {
   "codemirror_mode": {
    "name": "ipython",
    "version": 3
   },
   "file_extension": ".py",
   "mimetype": "text/x-python",
   "name": "python",
   "nbconvert_exporter": "python",
   "pygments_lexer": "ipython3",
   "version": "3.7.4"
  }
 },
 "nbformat": 4,
 "nbformat_minor": 4
}
